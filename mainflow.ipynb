{
 "cells": [
  {
   "cell_type": "code",
   "execution_count": null,
   "id": "00a7a244-5840-479f-b045-6bbcd6de6087",
   "metadata": {},
   "outputs": [],
   "source": [
    "#creating a list\n",
    "my_list=[1,2,3,4,5]\n",
    "\n",
    "#adding an eliment to the list\n",
    "my_list.append(6)\n",
    "\n",
    "#recovering an element from the list\n",
    "my_list.remove(3)\n",
    "\n",
    "#modifying an element in the list\n",
    "my_list[0]=10\n",
    "\n",
    "print(\"updated_list: \", my_list)"
   ]
  },
  {
   "cell_type": "code",
   "execution_count": 2,
   "id": "60c6077b-e556-4624-8135-6204c60f0c19",
   "metadata": {},
   "outputs": [
    {
     "name": "stdout",
     "output_type": "stream",
     "text": [
      "modifyed dictionary:  {'name': 'john', 'city': 'Mumbai', 'gender': 'Male'}\n"
     ]
    }
   ],
   "source": [
    "#creating a dictionary\n",
    "my_dict={'name': 'john' , 'age': 25 , 'city':'delhi'}\n",
    "\n",
    "#Adding\n",
    "my_dict['gender']='Male'\n",
    "\n",
    "#Removing\n",
    "del my_dict['age']\n",
    "\n",
    "#Modyfying\n",
    "my_dict['city']='Mumbai'\n",
    "\n",
    "print(\"modifyed dictionary: \", my_dict)"
   ]
  },
  {
   "cell_type": "code",
   "execution_count": 3,
   "id": "c6badd64-40e0-4fb3-bab8-de7528ad5549",
   "metadata": {},
   "outputs": [
    {
     "name": "stdout",
     "output_type": "stream",
     "text": [
      "updated set:  {2, 4, 5, 6, 10}\n"
     ]
    }
   ],
   "source": [
    "#Creating a set\n",
    "my_set={1,2,3,4,5}\n",
    "\n",
    "#Adding\n",
    "my_set.add(6)\n",
    "\n",
    "#Removing\n",
    "my_set.remove(3)\n",
    "\n",
    "#Modifying\n",
    "my_set.discard(1)\n",
    "my_set.add(10)\n",
    "\n",
    "print(\"updated set: \", my_set)\n"
   ]
  },
  {
   "cell_type": "code",
   "execution_count": null,
   "id": "ed4952a7-c46b-45be-ad42-5ac58d5bc9da",
   "metadata": {},
   "outputs": [],
   "source": []
  }
 ],
 "metadata": {
  "kernelspec": {
   "display_name": "Python 3 (ipykernel)",
   "language": "python",
   "name": "python3"
  },
  "language_info": {
   "codemirror_mode": {
    "name": "ipython",
    "version": 3
   },
   "file_extension": ".py",
   "mimetype": "text/x-python",
   "name": "python",
   "nbconvert_exporter": "python",
   "pygments_lexer": "ipython3",
   "version": "3.11.7"
  }
 },
 "nbformat": 4,
 "nbformat_minor": 5
}
